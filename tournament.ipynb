{
 "cells": [
  {
   "cell_type": "code",
   "execution_count": 3,
   "metadata": {},
   "outputs": [
    {
     "name": "stdout",
     "output_type": "stream",
     "text": [
      "\n",
      "\n",
      "\n",
      "\n",
      "For num_constraints : 2\n",
      "Team 1 : Score 0, Rank 2, Time 0.0011637210845947266 cpu seconds\n",
      "Team 2 : Score 0, Rank 2, Time 0.018276453018188477 cpu seconds\n",
      "Team 3 : Score 1, Rank 1, Time 1.0372498035430908 cpu seconds\n",
      "Team 4 : Score 0, Rank 0, Time 0 cpu seconds\n",
      "Team 5 : Score 0, Rank 0, Time 0 cpu seconds\n",
      "Team 6 : Score 0, Rank 0, Time 0 cpu seconds\n",
      "Team 7 : Score 0, Rank 0, Time 0 cpu seconds\n",
      "Team 8 : Score 0, Rank 0, Time 0 cpu seconds\n"
     ]
    }
   ],
   "source": [
    "import pickle as pkl\n",
    "#all_constraints = [1,3,10,15,20, 50,100,1000,10000,100000]\n",
    "all_constraints = [2]\n",
    "\n",
    "for num_constraints in all_constraints:\n",
    "    print(\"\\n\")\n",
    "    print(\"\\n\")\n",
    "    print(\"For num_constraints : \"+str(num_constraints))\n",
    "    with open(\"tournament_results_\"+ str(num_constraints)+\".pkl\", \"rb\") as f:\n",
    "        tournament_results = pkl.load(f)\n",
    "    net_scores = [0,0,0,0,0,0,0,0]\n",
    "    net_ranks = [0,0,0,0,0,0,0,0]\n",
    "    net_times = [0,0,0,0,0,0,0,0]\n",
    "    for res in tournament_results:\n",
    "        player_1 = res[0][0] - 1\n",
    "        player_2 = res[0][1] - 1\n",
    "        player_3 = res[0][2] - 1\n",
    "        #updating scores\n",
    "        net_scores[player_1] = net_scores[player_1] + res[1][0]\n",
    "        net_scores[player_2] = net_scores[player_2] + res[1][1]\n",
    "        net_scores[player_3] = net_scores[player_3] + res[1][2]\n",
    "        #updating ranks\n",
    "        net_ranks[player_1] = net_ranks[player_1] + res[2][0]\n",
    "        net_ranks[player_2] = net_ranks[player_2] + res[2][1]\n",
    "        net_ranks[player_3] = net_ranks[player_3] + res[2][2]\n",
    "        #updating times\n",
    "        net_times[player_1] = net_times[player_1] + res[3][0]\n",
    "        net_times[player_2] = net_times[player_2] + res[4][0]\n",
    "        net_times[player_3] = net_times[player_3] + res[5][0]\n",
    "    for i in range(8):\n",
    "        print(\"Team \"+str(i+1)+\" : Score \"+ str(net_scores[i]) + \", Rank \"+ str(net_ranks[i]) + \", Time \"+ str(net_times[i])+\" cpu seconds\")\n",
    "\n"
   ]
  }
 ],
 "metadata": {
  "kernelspec": {
   "display_name": "Python 3.10.13 ('coms44444clock')",
   "language": "python",
   "name": "python3"
  },
  "language_info": {
   "codemirror_mode": {
    "name": "ipython",
    "version": 3
   },
   "file_extension": ".py",
   "mimetype": "text/x-python",
   "name": "python",
   "nbconvert_exporter": "python",
   "pygments_lexer": "ipython3",
   "version": "3.10.13"
  },
  "orig_nbformat": 4,
  "vscode": {
   "interpreter": {
    "hash": "599abe9a3b35f0ba91b7579b7e5b61cc794876ec70c5d2a139945dd7e779b47d"
   }
  }
 },
 "nbformat": 4,
 "nbformat_minor": 2
}
