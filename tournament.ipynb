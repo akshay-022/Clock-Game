{
 "cells": [
  {
   "cell_type": "code",
   "execution_count": null,
   "metadata": {},
   "outputs": [],
   "source": []
  }
 ],
 "metadata": {
  "kernelspec": {
   "display_name": "Python 3.10.13 ('coms44444clock')",
   "language": "python",
   "name": "python3"
  },
  "language_info": {
   "name": "python",
   "version": "3.10.13"
  },
  "orig_nbformat": 4,
  "vscode": {
   "interpreter": {
    "hash": "599abe9a3b35f0ba91b7579b7e5b61cc794876ec70c5d2a139945dd7e779b47d"
   }
  }
 },
 "nbformat": 4,
 "nbformat_minor": 2
}
